{
 "cells": [
  {
   "cell_type": "code",
   "execution_count": null,
   "id": "f63de3e5",
   "metadata": {
    "vscode": {
     "languageId": "plaintext"
    }
   },
   "outputs": [],
   "source": [
    "import numpy as np\n",
    "from PIL import Image\n",
    "import matplotlib.pyplot as plt\n",
    "import argparse\n",
    "import os\n",
    "import sys\n",
    "\n",
    "\n",
    "def read_image(path, color=True):\n",
    "    \"\"\"Read an image and return it as a normalized numpy array (0–1).\"\"\"\n",
    "    img = Image.open(path)\n",
    "    img = img.convert(\"RGB\") if color else img.convert(\"L\")\n",
    "    return np.asarray(img, dtype=np.float32) / 255.0\n",
    "\n"
   ]
  },
  {
   "cell_type": "code",
   "execution_count": null,
   "id": "a719dd2d",
   "metadata": {
    "vscode": {
     "languageId": "plaintext"
    }
   },
   "outputs": [],
   "source": [
    "\n",
    "def save_image(arr, path):\n",
    "    \"\"\"Save a numpy array (0–1) as an image file.\"\"\"\n",
    "    arr = np.clip(arr * 255.0, 0, 255).astype(np.uint8)\n",
    "    Image.fromarray(arr).save(path)\n"
   ]
  },
  {
   "cell_type": "code",
   "execution_count": null,
   "id": "362b0b32",
   "metadata": {
    "vscode": {
     "languageId": "plaintext"
    }
   },
   "outputs": [],
   "source": [
    "\n",
    "\n",
    "def show_images(images):\n",
    "    \"\"\"Display a list of (title, image) pairs side by side.\"\"\"\n",
    "    n = len(images)\n",
    "    plt.figure(figsize=(4 * n, 4))\n",
    "    for i, (title, img) in enumerate(images, 1):\n",
    "        plt.subplot(1, n, i)\n",
    "        plt.imshow(img if img.ndim == 3 else img, cmap='gray')\n",
    "        plt.title(title)\n",
    "        plt.axis('off')\n",
    "    plt.show()\n"
   ]
  },
  {
   "cell_type": "code",
   "execution_count": null,
   "id": "0414320e",
   "metadata": {
    "vscode": {
     "languageId": "plaintext"
    }
   },
   "outputs": [],
   "source": [
    "\n",
    "\n",
    "def make_gaussian_kernel(size, sigma):\n",
    "    \"\"\"Create a 2D Gaussian kernel.\"\"\"\n",
    "    if size % 2 == 0:\n",
    "        raise ValueError(\"Kernel size must be odd.\")\n",
    "    ax = np.arange(-size // 2 + 1., size // 2 + 1.)\n",
    "    xx, yy = np.meshgrid(ax, ax)\n",
    "    kernel = np.exp(-(xx**2 + yy**2) / (2 * sigma**2))\n",
    "    kernel /= np.sum(kernel)\n",
    "    return kernel.astype(np.float32)\n"
   ]
  },
  {
   "cell_type": "code",
   "execution_count": null,
   "id": "9e954ae2",
   "metadata": {
    "vscode": {
     "languageId": "plaintext"
    }
   },
   "outputs": [],
   "source": [
    "\n",
    "\n",
    "def convolve2d_manual(img, kernel):\n",
    "    \"\"\"Perform manual 2D convolution.\"\"\"\n",
    "    H, W = img.shape\n",
    "    kH, kW = kernel.shape\n",
    "    padH, padW = kH // 2, kW // 2\n",
    "\n",
    "    padded = np.pad(img, ((padH, padH), (padW, padW)), mode='reflect')\n",
    "    output = np.zeros_like(img, dtype=np.float32)\n",
    "\n",
    "    for i in range(H):\n",
    "        for j in range(W):\n",
    "            region = padded[i:i + kH, j:j + kW]\n",
    "            output[i, j] = np.sum(region * kernel)\n",
    "    return output\n",
    "\n"
   ]
  },
  {
   "cell_type": "code",
   "execution_count": null,
   "id": "8f5b03d6",
   "metadata": {
    "vscode": {
     "languageId": "plaintext"
    }
   },
   "outputs": [],
   "source": [
    "\n",
    "def retinex_gray(img_gray, kernel_size=31, sigma=8.0, eps=1e-6):\n",
    "    \"\"\"Apply Single-Scale Retinex to a grayscale image.\"\"\"\n",
    "    I = np.clip(img_gray, eps, 1.0)\n",
    "    logI = np.log(I)\n",
    "\n",
    "    kernel = make_gaussian_kernel(kernel_size, sigma)\n",
    "    logL = convolve2d_manual(logI, kernel)\n",
    "    logR = logI - logL\n",
    "\n",
    "    R = np.exp(logR)\n",
    "    L = np.exp(logL)\n",
    "\n",
    "    R_vis = (R - R.min()) / (R.max() - R.min() + 1e-9)\n",
    "    L_vis = (L - L.min()) / (L.max() - L.min() + 1e-9)\n",
    "\n",
    "    return R_vis, L_vis, logL\n",
    "\n"
   ]
  },
  {
   "cell_type": "code",
   "execution_count": null,
   "id": "5f4a939e",
   "metadata": {
    "vscode": {
     "languageId": "plaintext"
    }
   },
   "outputs": [],
   "source": [
    "\n",
    "def rgb_to_luminance(rgb):\n",
    "    \"\"\"Compute luminance (Y channel) from RGB.\"\"\"\n",
    "    R, G, B = rgb[..., 0], rgb[..., 1], rgb[..., 2]\n",
    "    return 0.299 * R + 0.587 * G + 0.114 * B\n",
    "\n",
    "\n",
    "def srgb_to_linear(img):\n",
    "    \"\"\"Convert sRGB to linear color space.\"\"\"\n",
    "    return np.where(img <= 0.04045, img / 12.92, ((img + 0.055) / 1.055) ** 2.4)\n",
    "\n",
    "\n",
    "def linear_to_srgb(img):\n",
    "    \"\"\"Convert linear color space to sRGB.\"\"\"\n",
    "    return np.where(img <= 0.0031308, img * 12.92, 1.055 * (img ** (1 / 2.4)) - 0.055)\n",
    "\n",
    "\n",
    "def estimate_color_scales(img_linear, L):\n",
    "    \"\"\"Estimate per-channel scaling factors to preserve color balance.\"\"\"\n",
    "    eps = 1e-8\n",
    "    ratios = img_linear / (L[..., None] + eps)\n",
    "    cR, cG, cB = np.median(ratios[..., 0]), np.median(ratios[..., 1]), np.median(ratios[..., 2])\n",
    "    return np.array([max(cR, eps), max(cG, eps), max(cB, eps)], dtype=np.float32)\n",
    "\n"
   ]
  },
  {
   "cell_type": "code",
   "execution_count": null,
   "id": "dba19670",
   "metadata": {
    "vscode": {
     "languageId": "plaintext"
    }
   },
   "outputs": [],
   "source": [
    "\n",
    "def retinex_color(img_rgb, kernel_size=31, sigma=8.0, eps=1e-6):\n",
    "    \"\"\"Improved color Retinex with tone preservation.\"\"\"\n",
    "    img = np.clip(img_rgb, 0.0, 1.0)\n",
    "    img_linear = srgb_to_linear(img)\n",
    "\n",
    "    Y = np.clip(rgb_to_luminance(img_linear), eps, 1.0)\n",
    "    logY = np.log(Y)\n",
    "    kernel = make_gaussian_kernel(kernel_size, sigma)\n",
    "    logL = convolve2d_manual(logY, kernel)\n",
    "    L = np.exp(logL)\n",
    "\n",
    "    color_scales = estimate_color_scales(img_linear, L)\n",
    "    denom = (L[..., None] * color_scales[None, None, :]) + eps\n",
    "    R_lin = img_linear / denom\n",
    "\n",
    "    mean_in = np.mean(rgb_to_luminance(img_linear))\n",
    "    mean_out = np.mean(rgb_to_luminance(R_lin))\n",
    "    gain = mean_in / (mean_out + eps)\n",
    "    R_lin *= gain\n",
    "\n",
    "    R_lin = np.power(np.clip(R_lin, 0.0, 1.0), 0.9)\n",
    "    R_srgb = np.clip(linear_to_srgb(R_lin), 0.0, 1.0)\n",
    "    L_vis = (L - L.min()) / (L.max() - L.min() + 1e-9)\n",
    "\n",
    "    return R_srgb, L_vis, logL\n",
    "\n"
   ]
  },
  {
   "cell_type": "code",
   "execution_count": null,
   "id": "8c95ce24",
   "metadata": {
    "vscode": {
     "languageId": "plaintext"
    }
   },
   "outputs": [],
   "source": [
    "\n",
    "def main(args):\n",
    "    \"\"\"Main driver: handles reading, processing, and saving images.\"\"\"\n",
    "    if args.mode == 'gray':\n",
    "        is_color = False\n",
    "    elif args.mode == 'color':\n",
    "        is_color = True\n",
    "    else:\n",
    "        try:\n",
    "            img = Image.open(args.input)\n",
    "            is_color = (img.mode != 'L')\n",
    "            img.close()\n",
    "        except Exception as e:\n",
    "            print(\"Error reading image:\", e)\n",
    "            sys.exit(1)\n",
    "\n",
    "    if is_color:\n",
    "        img = read_image(args.input, color=True)\n",
    "        print(f\"Loaded color image: {img.shape}\")\n",
    "        R_vis, L_vis, _ = retinex_color(img, args.kernel, args.sigma)\n",
    "\n",
    "        base = os.path.splitext(os.path.basename(args.input))[0]\n",
    "        save_image(R_vis, f\"{base}_reflectance_color.png\")\n",
    "        save_image(L_vis, f\"{base}_illumination_color.png\")\n",
    "\n",
    "        print(\"Saved reflectance and illumination maps (color).\")\n",
    "        if args.show:\n",
    "            show_images([(\"Original\", img), (\"Reflectance\", R_vis), (\"Illumination\", L_vis)])\n",
    "    else:\n",
    "        img = read_image(args.input, color=False)\n",
    "        print(f\"Loaded grayscale image: {img.shape}\")\n",
    "        R_vis, L_vis, _ = retinex_gray(img, args.kernel, args.sigma)\n",
    "\n",
    "        base = os.path.splitext(os.path.basename(args.input))[0]\n",
    "        save_image(R_vis, f\"{base}_reflectance_gray.png\")\n",
    "        save_image(L_vis, f\"{base}_illumination_gray.png\")\n",
    "\n",
    "        print(\"Saved reflectance and illumination maps (grayscale).\")\n",
    "        if args.show:\n",
    "            show_images([(\"Original\", img), (\"Reflectance\", R_vis), (\"Illumination\", L_vis)])\n",
    "\n",
    "\n",
    "if __name__ == \"__main__\":\n",
    "    parser = argparse.ArgumentParser(\n",
    "        description=\"Simple Retinex-based illumination correction (manual Gaussian + convolution).\"\n",
    "    )\n",
    "    parser.add_argument(\"--kernel\", type=int, default=31, help=\"Size of Gaussian kernel (odd).\")\n",
    "    parser.add_argument(\"--sigma\", type=float, default=8.0, help=\"Standard deviation for Gaussian.\")\n",
    "    parser.add_argument(\"--mode\", choices=['auto', 'gray', 'color'], default='auto', help=\"Force gray/color mode.\")\n",
    "    parser.add_argument(\"--show\", action='store_true', help=\"Display images after processing.\")\n",
    "    args = parser.parse_args()\n",
    "\n",
    "    args.input = input(\"Enter image path: \").strip()\n",
    "    main(args)\n"
   ]
  }
 ],
 "metadata": {
  "language_info": {
   "name": "python"
  }
 },
 "nbformat": 4,
 "nbformat_minor": 5
}
